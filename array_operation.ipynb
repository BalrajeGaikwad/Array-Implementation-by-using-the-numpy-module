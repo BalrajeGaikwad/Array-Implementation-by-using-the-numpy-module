{
  "cells": [
    {
      "cell_type": "code",
      "execution_count": 1,
      "metadata": {
        "id": "7FdFbYNXqT2M"
      },
      "outputs": [],
      "source": [
        "import numpy as np"
      ]
    },
    {
      "cell_type": "code",
      "execution_count": 2,
      "metadata": {
        "id": "5yYdWNhfsgGm"
      },
      "outputs": [],
      "source": [
        "lst=[1,2,3,4]\n",
        "arr=np.array(lst)"
      ]
    },
    {
      "cell_type": "code",
      "execution_count": 3,
      "metadata": {
        "colab": {
          "base_uri": "https://localhost:8080/"
        },
        "id": "36NqvdEcslac",
        "outputId": "04c1f831-7253-429c-c726-4654d1717b51"
      },
      "outputs": [
        {
          "data": {
            "text/plain": [
              "numpy.ndarray"
            ]
          },
          "execution_count": 3,
          "metadata": {},
          "output_type": "execute_result"
        }
      ],
      "source": [
        "type(arr)"
      ]
    },
    {
      "cell_type": "code",
      "execution_count": 4,
      "metadata": {
        "colab": {
          "base_uri": "https://localhost:8080/"
        },
        "id": "hqvxXU_YszIv",
        "outputId": "204cfd83-05ff-4263-cf4b-97ca6ca38395"
      },
      "outputs": [
        {
          "data": {
            "text/plain": [
              "(4,)"
            ]
          },
          "execution_count": 4,
          "metadata": {},
          "output_type": "execute_result"
        }
      ],
      "source": [
        "arr.shape"
      ]
    },
    {
      "cell_type": "code",
      "execution_count": 5,
      "metadata": {
        "id": "AyoMKOAhsm8r"
      },
      "outputs": [],
      "source": [
        "lst1=[1,2,3,4,5]\n",
        "lst2=[2,3,4,5,6]\n",
        "lst3=[3,4,5,6,7]\n",
        "\n",
        "\n",
        "arr1=np.array([lst1,lst2,lst3])"
      ]
    },
    {
      "cell_type": "code",
      "execution_count": 6,
      "metadata": {
        "colab": {
          "base_uri": "https://localhost:8080/"
        },
        "id": "QER3WTUhtIdc",
        "outputId": "7500d531-0c16-4376-e9dd-61e68adac8c4"
      },
      "outputs": [
        {
          "data": {
            "text/plain": [
              "(3, 5)"
            ]
          },
          "execution_count": 6,
          "metadata": {},
          "output_type": "execute_result"
        }
      ],
      "source": [
        "arr1.shape"
      ]
    },
    {
      "cell_type": "code",
      "execution_count": 7,
      "metadata": {
        "id": "cZW7pCpotUZV"
      },
      "outputs": [],
      "source": [
        "#indesing"
      ]
    },
    {
      "cell_type": "code",
      "execution_count": 8,
      "metadata": {
        "colab": {
          "base_uri": "https://localhost:8080/"
        },
        "id": "KMKAygAUtllM",
        "outputId": "61a1f24e-0b71-419a-fcac-51e291449c41"
      },
      "outputs": [
        {
          "data": {
            "text/plain": [
              "array([1, 2, 3, 4])"
            ]
          },
          "execution_count": 8,
          "metadata": {},
          "output_type": "execute_result"
        }
      ],
      "source": [
        "arr"
      ]
    },
    {
      "cell_type": "code",
      "execution_count": 9,
      "metadata": {
        "colab": {
          "base_uri": "https://localhost:8080/"
        },
        "id": "aOyKNiQNtmJs",
        "outputId": "38bcffc9-d932-4e76-862e-f6c4f567c206"
      },
      "outputs": [
        {
          "data": {
            "text/plain": [
              "4"
            ]
          },
          "execution_count": 9,
          "metadata": {},
          "output_type": "execute_result"
        }
      ],
      "source": [
        "arr[3]"
      ]
    },
    {
      "cell_type": "code",
      "execution_count": 10,
      "metadata": {
        "id": "11nJEdvdtyy0"
      },
      "outputs": [],
      "source": [
        "arr[3]=5"
      ]
    },
    {
      "cell_type": "code",
      "execution_count": 11,
      "metadata": {
        "colab": {
          "base_uri": "https://localhost:8080/"
        },
        "id": "1F_cIc5Nt1HE",
        "outputId": "ff6471d2-61d8-429d-b827-887ca0289fe4"
      },
      "outputs": [
        {
          "data": {
            "text/plain": [
              "array([1, 2, 3, 5])"
            ]
          },
          "execution_count": 11,
          "metadata": {},
          "output_type": "execute_result"
        }
      ],
      "source": [
        "arr"
      ]
    },
    {
      "cell_type": "code",
      "execution_count": 12,
      "metadata": {
        "colab": {
          "base_uri": "https://localhost:8080/"
        },
        "id": "ckHBzR9It2Lv",
        "outputId": "d48e92d2-1c51-4447-b9cd-56a721d42a5b"
      },
      "outputs": [
        {
          "data": {
            "text/plain": [
              "array([2, 3, 5])"
            ]
          },
          "execution_count": 12,
          "metadata": {},
          "output_type": "execute_result"
        }
      ],
      "source": [
        "arr[1:]"
      ]
    },
    {
      "cell_type": "code",
      "execution_count": 13,
      "metadata": {
        "colab": {
          "base_uri": "https://localhost:8080/"
        },
        "id": "RsE1GJEzt7gs",
        "outputId": "de196bbb-46ce-4c7f-bcc9-fdd06699b1d4"
      },
      "outputs": [
        {
          "data": {
            "text/plain": [
              "5"
            ]
          },
          "execution_count": 13,
          "metadata": {},
          "output_type": "execute_result"
        }
      ],
      "source": [
        "arr[-1]"
      ]
    },
    {
      "cell_type": "code",
      "execution_count": 14,
      "metadata": {
        "colab": {
          "base_uri": "https://localhost:8080/"
        },
        "id": "_--US_kYuImk",
        "outputId": "724a380e-b87f-4af7-87cb-02fb4def2e6b"
      },
      "outputs": [
        {
          "data": {
            "text/plain": [
              "array([1, 2, 3])"
            ]
          },
          "execution_count": 14,
          "metadata": {},
          "output_type": "execute_result"
        }
      ],
      "source": [
        "arr[:-1]"
      ]
    },
    {
      "cell_type": "code",
      "execution_count": 15,
      "metadata": {
        "colab": {
          "base_uri": "https://localhost:8080/"
        },
        "id": "aYQSg4nDuLGk",
        "outputId": "c3a6dcb1-29be-434e-928d-96de86e4c9e6"
      },
      "outputs": [
        {
          "data": {
            "text/plain": [
              "array([1, 2, 3, 5])"
            ]
          },
          "execution_count": 15,
          "metadata": {},
          "output_type": "execute_result"
        }
      ],
      "source": [
        "arr[::]"
      ]
    },
    {
      "cell_type": "code",
      "execution_count": 16,
      "metadata": {
        "colab": {
          "base_uri": "https://localhost:8080/"
        },
        "id": "ShJ-LLGBuRP8",
        "outputId": "bba8571f-761c-4ca6-84f1-8b758933dfd9"
      },
      "outputs": [
        {
          "data": {
            "text/plain": [
              "array([5, 3, 2, 1])"
            ]
          },
          "execution_count": 16,
          "metadata": {},
          "output_type": "execute_result"
        }
      ],
      "source": [
        "arr[::-1]"
      ]
    },
    {
      "cell_type": "code",
      "execution_count": 17,
      "metadata": {
        "colab": {
          "base_uri": "https://localhost:8080/"
        },
        "id": "QoES7nlxuSwN",
        "outputId": "74911641-4f03-48bb-e08b-61f05b4b0085"
      },
      "outputs": [
        {
          "data": {
            "text/plain": [
              "array([5, 2])"
            ]
          },
          "execution_count": 17,
          "metadata": {},
          "output_type": "execute_result"
        }
      ],
      "source": [
        "arr[::-2]"
      ]
    },
    {
      "cell_type": "code",
      "execution_count": 18,
      "metadata": {
        "colab": {
          "base_uri": "https://localhost:8080/"
        },
        "id": "G_Ae0HAWuaZd",
        "outputId": "6dcbc7ed-c826-4f10-aa21-28ce132abcf4"
      },
      "outputs": [
        {
          "data": {
            "text/plain": [
              "array([[1, 2, 3, 4, 5],\n",
              "       [2, 3, 4, 5, 6],\n",
              "       [3, 4, 5, 6, 7]])"
            ]
          },
          "execution_count": 18,
          "metadata": {},
          "output_type": "execute_result"
        }
      ],
      "source": [
        "arr1"
      ]
    },
    {
      "cell_type": "code",
      "execution_count": 19,
      "metadata": {
        "colab": {
          "base_uri": "https://localhost:8080/"
        },
        "id": "rXqr9oRquj3-",
        "outputId": "3527b6c4-166d-423a-cc5a-43b6b1a1b5d8"
      },
      "outputs": [
        {
          "data": {
            "text/plain": [
              "array([2, 3, 4])"
            ]
          },
          "execution_count": 19,
          "metadata": {},
          "output_type": "execute_result"
        }
      ],
      "source": [
        "arr1[:,1]"
      ]
    },
    {
      "cell_type": "code",
      "execution_count": 20,
      "metadata": {
        "colab": {
          "base_uri": "https://localhost:8080/"
        },
        "id": "nQRP8_Z9uqOu",
        "outputId": "ce827a1d-b6d2-475c-9464-f46778e8b5e9"
      },
      "outputs": [
        {
          "data": {
            "text/plain": [
              "array([[3, 4],\n",
              "       [4, 5]])"
            ]
          },
          "execution_count": 20,
          "metadata": {},
          "output_type": "execute_result"
        }
      ],
      "source": [
        "arr1[1:,1:3]"
      ]
    },
    {
      "cell_type": "code",
      "execution_count": 21,
      "metadata": {
        "colab": {
          "base_uri": "https://localhost:8080/"
        },
        "id": "kkwrBS8fvH00",
        "outputId": "47a66b77-3ec4-43ea-ffc8-79d5a539913c"
      },
      "outputs": [
        {
          "data": {
            "text/plain": [
              "array([[5, 6],\n",
              "       [6, 7]])"
            ]
          },
          "execution_count": 21,
          "metadata": {},
          "output_type": "execute_result"
        }
      ],
      "source": [
        "arr1[1:,3:]"
      ]
    },
    {
      "cell_type": "code",
      "execution_count": 22,
      "metadata": {
        "colab": {
          "base_uri": "https://localhost:8080/"
        },
        "id": "e3DAIHgBveZd",
        "outputId": "d179b381-5a9e-40ad-ae85-d9a3b1c2ff4e"
      },
      "outputs": [
        {
          "data": {
            "text/plain": [
              "array([[4, 5],\n",
              "       [5, 6],\n",
              "       [6, 7]])"
            ]
          },
          "execution_count": 22,
          "metadata": {},
          "output_type": "execute_result"
        }
      ],
      "source": [
        "arr1[:,3:]"
      ]
    },
    {
      "cell_type": "code",
      "execution_count": 23,
      "metadata": {
        "colab": {
          "base_uri": "https://localhost:8080/"
        },
        "id": "RG8U3Ul7v2-9",
        "outputId": "e0d4f2c1-8ec3-4d60-cff2-183b7532fdca"
      },
      "outputs": [
        {
          "data": {
            "text/plain": [
              "array([[1, 4],\n",
              "       [2, 5],\n",
              "       [3, 6]])"
            ]
          },
          "execution_count": 23,
          "metadata": {},
          "output_type": "execute_result"
        }
      ],
      "source": [
        "arr1[:,::3]"
      ]
    },
    {
      "cell_type": "code",
      "execution_count": 24,
      "metadata": {
        "colab": {
          "base_uri": "https://localhost:8080/"
        },
        "id": "cSIi_AnbwQ7t",
        "outputId": "4ce6286a-a2ae-412d-daab-d6291d8bc7f7"
      },
      "outputs": [
        {
          "data": {
            "text/plain": [
              "array([[1, 5],\n",
              "       [2, 6],\n",
              "       [3, 7]])"
            ]
          },
          "execution_count": 24,
          "metadata": {},
          "output_type": "execute_result"
        }
      ],
      "source": [
        "arr1[:,::4]"
      ]
    },
    {
      "cell_type": "code",
      "execution_count": 25,
      "metadata": {
        "id": "6ntwal6owf6V"
      },
      "outputs": [],
      "source": [
        "#EDA"
      ]
    },
    {
      "cell_type": "code",
      "execution_count": 26,
      "metadata": {
        "colab": {
          "base_uri": "https://localhost:8080/"
        },
        "id": "81ndHVhowpQN",
        "outputId": "f2b32b10-5ff4-46ab-dcc1-0c8147d6421d"
      },
      "outputs": [
        {
          "data": {
            "text/plain": [
              "array([1, 2, 3, 5])"
            ]
          },
          "execution_count": 26,
          "metadata": {},
          "output_type": "execute_result"
        }
      ],
      "source": [
        "arr"
      ]
    },
    {
      "cell_type": "code",
      "execution_count": 27,
      "metadata": {
        "colab": {
          "base_uri": "https://localhost:8080/"
        },
        "id": "SlvMS6SawqFO",
        "outputId": "baf511df-0759-4988-b24f-37ac06fbf9fd"
      },
      "outputs": [
        {
          "data": {
            "text/plain": [
              "array([ True, False, False, False])"
            ]
          },
          "execution_count": 27,
          "metadata": {},
          "output_type": "execute_result"
        }
      ],
      "source": [
        "arr<2"
      ]
    },
    {
      "cell_type": "code",
      "execution_count": 28,
      "metadata": {
        "colab": {
          "base_uri": "https://localhost:8080/"
        },
        "id": "FEXC7kFdwrpF",
        "outputId": "56673fc9-6abf-4180-80da-f7cfaacf420b"
      },
      "outputs": [
        {
          "data": {
            "text/plain": [
              "array([1])"
            ]
          },
          "execution_count": 28,
          "metadata": {},
          "output_type": "execute_result"
        }
      ],
      "source": [
        "arr[arr<2]"
      ]
    },
    {
      "cell_type": "code",
      "execution_count": 29,
      "metadata": {
        "colab": {
          "base_uri": "https://localhost:8080/"
        },
        "id": "7VsD9HFjw2oV",
        "outputId": "9d92d5da-1340-4d10-a856-c418c5ec651f"
      },
      "outputs": [
        {
          "data": {
            "text/plain": [
              "(3, 5)"
            ]
          },
          "execution_count": 29,
          "metadata": {},
          "output_type": "execute_result"
        }
      ],
      "source": [
        "arr1.shape"
      ]
    },
    {
      "cell_type": "code",
      "execution_count": 30,
      "metadata": {
        "colab": {
          "base_uri": "https://localhost:8080/"
        },
        "id": "g8_2n84zw6Lu",
        "outputId": "733b130b-ddaf-4dd3-b4f3-c2d49ca12883"
      },
      "outputs": [
        {
          "data": {
            "text/plain": [
              "array([[1, 2, 3, 4, 5],\n",
              "       [2, 3, 4, 5, 6],\n",
              "       [3, 4, 5, 6, 7]])"
            ]
          },
          "execution_count": 30,
          "metadata": {},
          "output_type": "execute_result"
        }
      ],
      "source": [
        "arr1"
      ]
    },
    {
      "cell_type": "code",
      "execution_count": 31,
      "metadata": {
        "colab": {
          "base_uri": "https://localhost:8080/"
        },
        "id": "wbJp9FMow8mV",
        "outputId": "e15132fd-c112-49b7-9879-bd221e3dbca0"
      },
      "outputs": [
        {
          "data": {
            "text/plain": [
              "array([[1, 2, 3],\n",
              "       [4, 5, 2],\n",
              "       [3, 4, 5],\n",
              "       [6, 3, 4],\n",
              "       [5, 6, 7]])"
            ]
          },
          "execution_count": 31,
          "metadata": {},
          "output_type": "execute_result"
        }
      ],
      "source": [
        "arr1.reshape(5,3)"
      ]
    },
    {
      "cell_type": "code",
      "execution_count": 32,
      "metadata": {
        "id": "wefG8YVFxBUF"
      },
      "outputs": [],
      "source": [
        "##Mechanism to create an array"
      ]
    },
    {
      "cell_type": "code",
      "execution_count": 33,
      "metadata": {
        "colab": {
          "base_uri": "https://localhost:8080/"
        },
        "id": "FHwd_m15xJaV",
        "outputId": "b7901fdf-78c8-4ac8-a3e7-1a9c76240853"
      },
      "outputs": [
        {
          "data": {
            "text/plain": [
              "array([1, 3, 5, 7, 9])"
            ]
          },
          "execution_count": 33,
          "metadata": {},
          "output_type": "execute_result"
        }
      ],
      "source": [
        "np.arange(1,10,2)"
      ]
    },
    {
      "cell_type": "code",
      "execution_count": 34,
      "metadata": {
        "colab": {
          "base_uri": "https://localhost:8080/"
        },
        "id": "k67y7QG3xN60",
        "outputId": "989f58ac-eca1-45df-f07e-3fe7ea9d3a58"
      },
      "outputs": [
        {
          "data": {
            "text/plain": [
              "array([ 1,  3,  5,  7,  9, 11, 13, 15, 17, 19])"
            ]
          },
          "execution_count": 34,
          "metadata": {},
          "output_type": "execute_result"
        }
      ],
      "source": [
        "np.arange(1,20,2)"
      ]
    },
    {
      "cell_type": "code",
      "execution_count": 35,
      "metadata": {
        "colab": {
          "base_uri": "https://localhost:8080/"
        },
        "id": "tzbONW2oxVB-",
        "outputId": "6543830b-db61-43b5-c312-198885370b0e"
      },
      "outputs": [
        {
          "data": {
            "text/plain": [
              "array([[ 1,  3,  5,  7,  9],\n",
              "       [11, 13, 15, 17, 19]])"
            ]
          },
          "execution_count": 35,
          "metadata": {},
          "output_type": "execute_result"
        }
      ],
      "source": [
        "np.arange(1,20,2).reshape(2,5)"
      ]
    },
    {
      "cell_type": "code",
      "execution_count": 36,
      "metadata": {
        "colab": {
          "base_uri": "https://localhost:8080/"
        },
        "id": "EpLB016NxcKN",
        "outputId": "3b43fed5-b1e0-45d7-8489-2b2953aba3e9"
      },
      "outputs": [
        {
          "data": {
            "text/plain": [
              "array([[[ 1],\n",
              "        [ 3],\n",
              "        [ 5],\n",
              "        [ 7],\n",
              "        [ 9],\n",
              "        [11],\n",
              "        [13],\n",
              "        [15],\n",
              "        [17],\n",
              "        [19]]])"
            ]
          },
          "execution_count": 36,
          "metadata": {},
          "output_type": "execute_result"
        }
      ],
      "source": [
        "np.arange(1,20,2).reshape(1,10,1)"
      ]
    },
    {
      "cell_type": "code",
      "execution_count": 37,
      "metadata": {
        "colab": {
          "base_uri": "https://localhost:8080/"
        },
        "id": "GuxWPqI8xvSV",
        "outputId": "8f665b51-9d93-4a47-a24d-df8a25a1b279"
      },
      "outputs": [
        {
          "data": {
            "text/plain": [
              "array([ 1,  4,  9, 25])"
            ]
          },
          "execution_count": 37,
          "metadata": {},
          "output_type": "execute_result"
        }
      ],
      "source": [
        "arr*arr"
      ]
    },
    {
      "cell_type": "code",
      "execution_count": 38,
      "metadata": {
        "colab": {
          "base_uri": "https://localhost:8080/"
        },
        "id": "cTEQvWN1x-1V",
        "outputId": "e35003eb-0a1b-4df3-e8e1-ea855cd500a5"
      },
      "outputs": [
        {
          "data": {
            "text/plain": [
              "array([[ 2,  4,  6,  8, 10],\n",
              "       [ 4,  6,  8, 10, 12],\n",
              "       [ 6,  8, 10, 12, 14]])"
            ]
          },
          "execution_count": 38,
          "metadata": {},
          "output_type": "execute_result"
        }
      ],
      "source": [
        "arr1*2"
      ]
    },
    {
      "cell_type": "code",
      "execution_count": 39,
      "metadata": {
        "colab": {
          "base_uri": "https://localhost:8080/"
        },
        "id": "z3gO7HX1yAP1",
        "outputId": "ebf877db-26af-4dae-bcbb-58b0f4e9ae1a"
      },
      "outputs": [
        {
          "data": {
            "text/plain": [
              "array([[1, 2, 3, 4, 5],\n",
              "       [2, 3, 4, 5, 6],\n",
              "       [3, 4, 5, 6, 7]])"
            ]
          },
          "execution_count": 39,
          "metadata": {},
          "output_type": "execute_result"
        }
      ],
      "source": [
        "arr1"
      ]
    },
    {
      "cell_type": "code",
      "execution_count": 40,
      "metadata": {
        "colab": {
          "base_uri": "https://localhost:8080/"
        },
        "id": "1rJpQV46yHhH",
        "outputId": "8189ff44-9b2f-453d-b757-096071a0d6eb"
      },
      "outputs": [
        {
          "data": {
            "text/plain": [
              "array([[ 1,  4,  9, 16, 25],\n",
              "       [ 4,  9, 16, 25, 36],\n",
              "       [ 9, 16, 25, 36, 49]])"
            ]
          },
          "execution_count": 40,
          "metadata": {},
          "output_type": "execute_result"
        }
      ],
      "source": [
        "arr1*arr1"
      ]
    },
    {
      "cell_type": "code",
      "execution_count": 41,
      "metadata": {
        "colab": {
          "base_uri": "https://localhost:8080/"
        },
        "id": "ueK1Fe_5yJB-",
        "outputId": "672a2a6e-4ddd-4d37-8c7c-2fb5d0fb6ce5"
      },
      "outputs": [
        {
          "data": {
            "text/plain": [
              "array([[1., 1., 1.],\n",
              "       [1., 1., 1.],\n",
              "       [1., 1., 1.],\n",
              "       [1., 1., 1.],\n",
              "       [1., 1., 1.]])"
            ]
          },
          "execution_count": 41,
          "metadata": {},
          "output_type": "execute_result"
        }
      ],
      "source": [
        "np.ones((5,3))"
      ]
    },
    {
      "cell_type": "code",
      "execution_count": 42,
      "metadata": {
        "colab": {
          "base_uri": "https://localhost:8080/"
        },
        "id": "kJoqCos1yQPe",
        "outputId": "81b99e76-abf0-488b-f37d-06e0a1a465de"
      },
      "outputs": [
        {
          "data": {
            "text/plain": [
              "array([[0., 0., 0., 0., 0.],\n",
              "       [0., 0., 0., 0., 0.],\n",
              "       [0., 0., 0., 0., 0.],\n",
              "       [0., 0., 0., 0., 0.]])"
            ]
          },
          "execution_count": 42,
          "metadata": {},
          "output_type": "execute_result"
        }
      ],
      "source": [
        "np.zeros((4,5))"
      ]
    },
    {
      "cell_type": "code",
      "execution_count": 43,
      "metadata": {
        "colab": {
          "base_uri": "https://localhost:8080/"
        },
        "id": "zpBDPgtmydmN",
        "outputId": "6f362f42-6764-4235-f166-3045985bedcf"
      },
      "outputs": [
        {
          "data": {
            "text/plain": [
              "array([15, 40, 32, 26])"
            ]
          },
          "execution_count": 43,
          "metadata": {},
          "output_type": "execute_result"
        }
      ],
      "source": [
        "np.random.randint(10,50,4)"
      ]
    },
    {
      "cell_type": "code",
      "execution_count": 44,
      "metadata": {
        "colab": {
          "base_uri": "https://localhost:8080/"
        },
        "id": "VsiA0Ewzyk0t",
        "outputId": "d4384d53-ae5d-452f-c0b3-8fa9e9ea53fc"
      },
      "outputs": [
        {
          "data": {
            "text/plain": [
              "array([[33, 20],\n",
              "       [49, 13]])"
            ]
          },
          "execution_count": 44,
          "metadata": {},
          "output_type": "execute_result"
        }
      ],
      "source": [
        "np.random.randint(10,50,4).reshape(2,2)"
      ]
    },
    {
      "cell_type": "code",
      "execution_count": 45,
      "metadata": {
        "colab": {
          "base_uri": "https://localhost:8080/"
        },
        "id": "av-sKQBCyvyt",
        "outputId": "43955191-9dd4-45bf-88d8-6b0cc185815a"
      },
      "outputs": [
        {
          "data": {
            "text/plain": [
              "array([[ 0.60342111, -1.03893049,  2.34062327,  1.77802358,  1.66291465,\n",
              "         0.43146565],\n",
              "       [-0.06942919,  0.66989078, -1.02164339, -0.38349283, -0.09633245,\n",
              "        -1.1178406 ],\n",
              "       [ 0.34971349, -0.37543943,  0.91349246,  1.03984833,  0.87334329,\n",
              "        -1.76303437],\n",
              "       [-0.23811451, -0.66852708,  1.56155197, -0.20403763,  1.54925032,\n",
              "        -0.33399046],\n",
              "       [-0.57055994,  0.37078524,  2.06423964,  0.7415218 , -1.2576811 ,\n",
              "        -0.3848419 ]])"
            ]
          },
          "execution_count": 45,
          "metadata": {},
          "output_type": "execute_result"
        }
      ],
      "source": [
        "#normal distribution\n",
        "\n",
        "np.random.randn(5,6)"
      ]
    },
    {
      "cell_type": "code",
      "execution_count": null,
      "metadata": {
        "id": "P_voVo1iy49O"
      },
      "outputs": [],
      "source": []
    }
  ],
  "metadata": {
    "colab": {
      "provenance": []
    },
    "kernelspec": {
      "display_name": "Python 3",
      "name": "python3"
    },
    "language_info": {
      "codemirror_mode": {
        "name": "ipython",
        "version": 3
      },
      "file_extension": ".py",
      "mimetype": "text/x-python",
      "name": "python",
      "nbconvert_exporter": "python",
      "pygments_lexer": "ipython3",
      "version": "3.11.9"
    }
  },
  "nbformat": 4,
  "nbformat_minor": 0
}
